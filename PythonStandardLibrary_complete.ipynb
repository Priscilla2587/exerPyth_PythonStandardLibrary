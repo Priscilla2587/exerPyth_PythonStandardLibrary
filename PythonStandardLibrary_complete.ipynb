{
  "nbformat": 4,
  "nbformat_minor": 0,
  "metadata": {
    "colab": {
      "provenance": [],
      "authorship_tag": "ABX9TyPvv8NUqR2fMq1WORIiPvSa",
      "include_colab_link": true
    },
    "kernelspec": {
      "name": "python3",
      "display_name": "Python 3"
    },
    "language_info": {
      "name": "python"
    }
  },
  "cells": [
    {
      "cell_type": "markdown",
      "metadata": {
        "id": "view-in-github",
        "colab_type": "text"
      },
      "source": [
        "<a href=\"https://colab.research.google.com/github/Priscilla2587/exerPyth_PythonStandardLibrary/blob/main/PythonStandardLibrary_complete.ipynb\" target=\"_parent\"><img src=\"https://colab.research.google.com/assets/colab-badge.svg\" alt=\"Open In Colab\"/></a>"
      ]
    },
    {
      "cell_type": "code",
      "execution_count": null,
      "metadata": {
        "id": "pWlYRIweRIz-",
        "colab": {
          "base_uri": "https://localhost:8080/"
        },
        "outputId": "e3d882e4-dd88-4359-e130-9abf64bb37c8"
      },
      "outputs": [
        {
          "output_type": "stream",
          "name": "stdout",
          "text": [
            "2024\n",
            "Friday\n"
          ]
        }
      ],
      "source": [
        "import datetime\n",
        "x = datetime.datetime.now()\n",
        "print (x.year)\n",
        "print (x.strftime (\"%A\"))"
      ]
    },
    {
      "cell_type": "code",
      "source": [
        "import math\n",
        "x = math.sqrt(64)\n",
        "print (x)\n",
        "\n"
      ],
      "metadata": {
        "colab": {
          "base_uri": "https://localhost:8080/"
        },
        "id": "lEO7xxolV41p",
        "outputId": "ae2051a1-9995-434f-9827-d83d96616c4f"
      },
      "execution_count": null,
      "outputs": [
        {
          "output_type": "stream",
          "name": "stdout",
          "text": [
            "8.0\n"
          ]
        }
      ]
    },
    {
      "cell_type": "code",
      "source": [
        "import json\n",
        "x = {\n",
        "    \"name\": \"John\",\n",
        "    \"age\": 30,\n",
        "    \"city\": \"New York\"\n",
        "     }\n",
        "\n",
        "y = json.dumps(x)\n",
        "\n",
        "print(y)\n"
      ],
      "metadata": {
        "colab": {
          "base_uri": "https://localhost:8080/"
        },
        "id": "uWmUvKdHWm38",
        "outputId": "30f0742d-5b50-41b4-b6d1-76aa4885c74c"
      },
      "execution_count": null,
      "outputs": [
        {
          "output_type": "stream",
          "name": "stdout",
          "text": [
            "{\"name\": \"John\", \"age\": 30, \"city\": \"New York\"}\n"
          ]
        }
      ]
    },
    {
      "cell_type": "code",
      "source": [
        "import re\n",
        "txt = \"The rain in Spain\"\n",
        "x = re.search(\"^The.*Spain$\", txt)\n",
        "\n",
        "if x:\n",
        " print(\"Yes! We have a match!\")\n",
        "else:\n",
        " print(\"No match\")"
      ],
      "metadata": {
        "colab": {
          "base_uri": "https://localhost:8080/"
        },
        "id": "4dprqvNBXuAg",
        "outputId": "d0ee1a52-11c6-4738-d739-0823ecf67997"
      },
      "execution_count": null,
      "outputs": [
        {
          "output_type": "stream",
          "name": "stdout",
          "text": [
            "Yes! We have a match!\n"
          ]
        }
      ]
    },
    {
      "cell_type": "code",
      "source": [
        "datetime- basic date and time types\n",
        "math- mathematical functions\n",
        "json- json encoder and decoder\n",
        "re- regular expression operations"
      ],
      "metadata": {
        "id": "3yWh1WUSYUjE"
      },
      "execution_count": null,
      "outputs": []
    }
  ]
}